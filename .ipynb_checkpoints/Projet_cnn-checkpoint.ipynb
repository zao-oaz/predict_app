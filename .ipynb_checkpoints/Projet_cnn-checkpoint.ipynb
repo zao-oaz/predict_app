{
 "cells": [
  {
   "cell_type": "markdown",
   "id": "4e1b7caa",
   "metadata": {},
   "source": [
    "## Outil de visualisation pour un réseau neuronal convolutif"
   ]
  },
  {
   "cell_type": "markdown",
   "id": "add7d4ce",
   "metadata": {},
   "source": [
    "🔎 **Contexte :** Vous travaillez dans une startup edtech qui offre des services de vulgarisation de l'IA. Votre client souhaite avoir un outil de démo pour expliquer comment ça fonctionne un réseau de neurones."
   ]
  },
  {
   "cell_type": "markdown",
   "id": "6849b83c",
   "metadata": {},
   "source": [
    "🔎 **Premier objectif :** Créer un modèle de deep learning pour classifier des images de chiffres de 0 à 9. Ensuite, vous devez développer l'interface utilisateur (avec streamlit) qui vous permet de déssiner un nombre (ou choisir aléatoirement un nombre d'un dataset d'images) et de détecter s'il correspond à un nombre compris entre 0 et 9.\n",
    "\n",
    "* Pour cela, vous disposez d'un premier fichier (**train.csv**) qui contient 42000 images et 785 colonnes. La première colonne, appelée \"label\", est le chiffre de l'image (votre target). Les autres 784 colonnes correspondent aux 784 pixels (soit 28x28 pixels) de chaque image. Chaque pixel est associé à une valeur entier compris entre 0 et 255 qui indique la clarté ou l'obscurité de ce pixel, comme montré dans l'image du brief.\n",
    "\n",
    "* Pour valider votre modèle, vous disposez d'un deuxième fichier (**test.csv**) qui contient uniquement 784 colonnes pour les pixels des images mais sans le label. Vous allez utiliser ce dataset pour valider visuellement si votre modèle se trompe ou pas de prédiciton."
   ]
  },
  {
   "cell_type": "markdown",
   "id": "53398c08",
   "metadata": {},
   "source": [
    "🔎 **L'interface utilisateur :** votre première version streamlit doit être capable de montrer une image aléatoire du dataset test. Ensuite, grâce à un bouton \"predict\", votre modèle peut prédire le bon nombre et afficher le résultat dans l'interface. À la fin, l'interface doit vous permettre avec un bouton de valider si votre modèle a correctement classé l'image ou non."
   ]
  },
  {
   "cell_type": "markdown",
   "id": "2fa507b1",
   "metadata": {},
   "source": [
    "🔎 **Deuxième objectif :** Vous pouvez faire évoluer votre interface comme un jeu. Dans cette deuxième version, l'interface doit vous permettre de dessiner un nombre et le transformer en image. Cette image va ensuite être utilisée par le modèle pour prédire le bon nombre et afficher le résultat. L'idée derrière est de donner 10 opportunités à votre modèle de détecter le chiffre dessiné et donner des stats à la fin par rapport à sa performance de prédiction."
   ]
  },
  {
   "cell_type": "markdown",
   "id": "ec585655",
   "metadata": {},
   "source": [
    "🔢 Import librairies"
   ]
  },
  {
   "cell_type": "code",
   "execution_count": 1,
   "id": "5455b249",
   "metadata": {},
   "outputs": [],
   "source": [
    "import pandas as pd\n",
    "import numpy as np\n",
    "import seaborn as sns\n",
    "import matplotlib.pyplot as plt"
   ]
  },
  {
   "cell_type": "markdown",
   "id": "da55a6a0",
   "metadata": {},
   "source": [
    "🔢 Import dataset"
   ]
  },
  {
   "cell_type": "code",
   "execution_count": 2,
   "id": "b7cbd0ce",
   "metadata": {},
   "outputs": [
    {
     "data": {
      "text/html": [
       "<div>\n",
       "<style scoped>\n",
       "    .dataframe tbody tr th:only-of-type {\n",
       "        vertical-align: middle;\n",
       "    }\n",
       "\n",
       "    .dataframe tbody tr th {\n",
       "        vertical-align: top;\n",
       "    }\n",
       "\n",
       "    .dataframe thead th {\n",
       "        text-align: right;\n",
       "    }\n",
       "</style>\n",
       "<table border=\"1\" class=\"dataframe\">\n",
       "  <thead>\n",
       "    <tr style=\"text-align: right;\">\n",
       "      <th></th>\n",
       "      <th>label</th>\n",
       "      <th>pixel0</th>\n",
       "      <th>pixel1</th>\n",
       "      <th>pixel2</th>\n",
       "      <th>pixel3</th>\n",
       "      <th>pixel4</th>\n",
       "      <th>pixel5</th>\n",
       "      <th>pixel6</th>\n",
       "      <th>pixel7</th>\n",
       "      <th>pixel8</th>\n",
       "      <th>...</th>\n",
       "      <th>pixel774</th>\n",
       "      <th>pixel775</th>\n",
       "      <th>pixel776</th>\n",
       "      <th>pixel777</th>\n",
       "      <th>pixel778</th>\n",
       "      <th>pixel779</th>\n",
       "      <th>pixel780</th>\n",
       "      <th>pixel781</th>\n",
       "      <th>pixel782</th>\n",
       "      <th>pixel783</th>\n",
       "    </tr>\n",
       "  </thead>\n",
       "  <tbody>\n",
       "    <tr>\n",
       "      <th>0</th>\n",
       "      <td>1</td>\n",
       "      <td>0</td>\n",
       "      <td>0</td>\n",
       "      <td>0</td>\n",
       "      <td>0</td>\n",
       "      <td>0</td>\n",
       "      <td>0</td>\n",
       "      <td>0</td>\n",
       "      <td>0</td>\n",
       "      <td>0</td>\n",
       "      <td>...</td>\n",
       "      <td>0</td>\n",
       "      <td>0</td>\n",
       "      <td>0</td>\n",
       "      <td>0</td>\n",
       "      <td>0</td>\n",
       "      <td>0</td>\n",
       "      <td>0</td>\n",
       "      <td>0</td>\n",
       "      <td>0</td>\n",
       "      <td>0</td>\n",
       "    </tr>\n",
       "    <tr>\n",
       "      <th>1</th>\n",
       "      <td>0</td>\n",
       "      <td>0</td>\n",
       "      <td>0</td>\n",
       "      <td>0</td>\n",
       "      <td>0</td>\n",
       "      <td>0</td>\n",
       "      <td>0</td>\n",
       "      <td>0</td>\n",
       "      <td>0</td>\n",
       "      <td>0</td>\n",
       "      <td>...</td>\n",
       "      <td>0</td>\n",
       "      <td>0</td>\n",
       "      <td>0</td>\n",
       "      <td>0</td>\n",
       "      <td>0</td>\n",
       "      <td>0</td>\n",
       "      <td>0</td>\n",
       "      <td>0</td>\n",
       "      <td>0</td>\n",
       "      <td>0</td>\n",
       "    </tr>\n",
       "    <tr>\n",
       "      <th>2</th>\n",
       "      <td>1</td>\n",
       "      <td>0</td>\n",
       "      <td>0</td>\n",
       "      <td>0</td>\n",
       "      <td>0</td>\n",
       "      <td>0</td>\n",
       "      <td>0</td>\n",
       "      <td>0</td>\n",
       "      <td>0</td>\n",
       "      <td>0</td>\n",
       "      <td>...</td>\n",
       "      <td>0</td>\n",
       "      <td>0</td>\n",
       "      <td>0</td>\n",
       "      <td>0</td>\n",
       "      <td>0</td>\n",
       "      <td>0</td>\n",
       "      <td>0</td>\n",
       "      <td>0</td>\n",
       "      <td>0</td>\n",
       "      <td>0</td>\n",
       "    </tr>\n",
       "    <tr>\n",
       "      <th>3</th>\n",
       "      <td>4</td>\n",
       "      <td>0</td>\n",
       "      <td>0</td>\n",
       "      <td>0</td>\n",
       "      <td>0</td>\n",
       "      <td>0</td>\n",
       "      <td>0</td>\n",
       "      <td>0</td>\n",
       "      <td>0</td>\n",
       "      <td>0</td>\n",
       "      <td>...</td>\n",
       "      <td>0</td>\n",
       "      <td>0</td>\n",
       "      <td>0</td>\n",
       "      <td>0</td>\n",
       "      <td>0</td>\n",
       "      <td>0</td>\n",
       "      <td>0</td>\n",
       "      <td>0</td>\n",
       "      <td>0</td>\n",
       "      <td>0</td>\n",
       "    </tr>\n",
       "    <tr>\n",
       "      <th>4</th>\n",
       "      <td>0</td>\n",
       "      <td>0</td>\n",
       "      <td>0</td>\n",
       "      <td>0</td>\n",
       "      <td>0</td>\n",
       "      <td>0</td>\n",
       "      <td>0</td>\n",
       "      <td>0</td>\n",
       "      <td>0</td>\n",
       "      <td>0</td>\n",
       "      <td>...</td>\n",
       "      <td>0</td>\n",
       "      <td>0</td>\n",
       "      <td>0</td>\n",
       "      <td>0</td>\n",
       "      <td>0</td>\n",
       "      <td>0</td>\n",
       "      <td>0</td>\n",
       "      <td>0</td>\n",
       "      <td>0</td>\n",
       "      <td>0</td>\n",
       "    </tr>\n",
       "    <tr>\n",
       "      <th>...</th>\n",
       "      <td>...</td>\n",
       "      <td>...</td>\n",
       "      <td>...</td>\n",
       "      <td>...</td>\n",
       "      <td>...</td>\n",
       "      <td>...</td>\n",
       "      <td>...</td>\n",
       "      <td>...</td>\n",
       "      <td>...</td>\n",
       "      <td>...</td>\n",
       "      <td>...</td>\n",
       "      <td>...</td>\n",
       "      <td>...</td>\n",
       "      <td>...</td>\n",
       "      <td>...</td>\n",
       "      <td>...</td>\n",
       "      <td>...</td>\n",
       "      <td>...</td>\n",
       "      <td>...</td>\n",
       "      <td>...</td>\n",
       "      <td>...</td>\n",
       "    </tr>\n",
       "    <tr>\n",
       "      <th>41995</th>\n",
       "      <td>0</td>\n",
       "      <td>0</td>\n",
       "      <td>0</td>\n",
       "      <td>0</td>\n",
       "      <td>0</td>\n",
       "      <td>0</td>\n",
       "      <td>0</td>\n",
       "      <td>0</td>\n",
       "      <td>0</td>\n",
       "      <td>0</td>\n",
       "      <td>...</td>\n",
       "      <td>0</td>\n",
       "      <td>0</td>\n",
       "      <td>0</td>\n",
       "      <td>0</td>\n",
       "      <td>0</td>\n",
       "      <td>0</td>\n",
       "      <td>0</td>\n",
       "      <td>0</td>\n",
       "      <td>0</td>\n",
       "      <td>0</td>\n",
       "    </tr>\n",
       "    <tr>\n",
       "      <th>41996</th>\n",
       "      <td>1</td>\n",
       "      <td>0</td>\n",
       "      <td>0</td>\n",
       "      <td>0</td>\n",
       "      <td>0</td>\n",
       "      <td>0</td>\n",
       "      <td>0</td>\n",
       "      <td>0</td>\n",
       "      <td>0</td>\n",
       "      <td>0</td>\n",
       "      <td>...</td>\n",
       "      <td>0</td>\n",
       "      <td>0</td>\n",
       "      <td>0</td>\n",
       "      <td>0</td>\n",
       "      <td>0</td>\n",
       "      <td>0</td>\n",
       "      <td>0</td>\n",
       "      <td>0</td>\n",
       "      <td>0</td>\n",
       "      <td>0</td>\n",
       "    </tr>\n",
       "    <tr>\n",
       "      <th>41997</th>\n",
       "      <td>7</td>\n",
       "      <td>0</td>\n",
       "      <td>0</td>\n",
       "      <td>0</td>\n",
       "      <td>0</td>\n",
       "      <td>0</td>\n",
       "      <td>0</td>\n",
       "      <td>0</td>\n",
       "      <td>0</td>\n",
       "      <td>0</td>\n",
       "      <td>...</td>\n",
       "      <td>0</td>\n",
       "      <td>0</td>\n",
       "      <td>0</td>\n",
       "      <td>0</td>\n",
       "      <td>0</td>\n",
       "      <td>0</td>\n",
       "      <td>0</td>\n",
       "      <td>0</td>\n",
       "      <td>0</td>\n",
       "      <td>0</td>\n",
       "    </tr>\n",
       "    <tr>\n",
       "      <th>41998</th>\n",
       "      <td>6</td>\n",
       "      <td>0</td>\n",
       "      <td>0</td>\n",
       "      <td>0</td>\n",
       "      <td>0</td>\n",
       "      <td>0</td>\n",
       "      <td>0</td>\n",
       "      <td>0</td>\n",
       "      <td>0</td>\n",
       "      <td>0</td>\n",
       "      <td>...</td>\n",
       "      <td>0</td>\n",
       "      <td>0</td>\n",
       "      <td>0</td>\n",
       "      <td>0</td>\n",
       "      <td>0</td>\n",
       "      <td>0</td>\n",
       "      <td>0</td>\n",
       "      <td>0</td>\n",
       "      <td>0</td>\n",
       "      <td>0</td>\n",
       "    </tr>\n",
       "    <tr>\n",
       "      <th>41999</th>\n",
       "      <td>9</td>\n",
       "      <td>0</td>\n",
       "      <td>0</td>\n",
       "      <td>0</td>\n",
       "      <td>0</td>\n",
       "      <td>0</td>\n",
       "      <td>0</td>\n",
       "      <td>0</td>\n",
       "      <td>0</td>\n",
       "      <td>0</td>\n",
       "      <td>...</td>\n",
       "      <td>0</td>\n",
       "      <td>0</td>\n",
       "      <td>0</td>\n",
       "      <td>0</td>\n",
       "      <td>0</td>\n",
       "      <td>0</td>\n",
       "      <td>0</td>\n",
       "      <td>0</td>\n",
       "      <td>0</td>\n",
       "      <td>0</td>\n",
       "    </tr>\n",
       "  </tbody>\n",
       "</table>\n",
       "<p>42000 rows × 785 columns</p>\n",
       "</div>"
      ],
      "text/plain": [
       "       label  pixel0  pixel1  pixel2  pixel3  pixel4  pixel5  pixel6  pixel7  \\\n",
       "0          1       0       0       0       0       0       0       0       0   \n",
       "1          0       0       0       0       0       0       0       0       0   \n",
       "2          1       0       0       0       0       0       0       0       0   \n",
       "3          4       0       0       0       0       0       0       0       0   \n",
       "4          0       0       0       0       0       0       0       0       0   \n",
       "...      ...     ...     ...     ...     ...     ...     ...     ...     ...   \n",
       "41995      0       0       0       0       0       0       0       0       0   \n",
       "41996      1       0       0       0       0       0       0       0       0   \n",
       "41997      7       0       0       0       0       0       0       0       0   \n",
       "41998      6       0       0       0       0       0       0       0       0   \n",
       "41999      9       0       0       0       0       0       0       0       0   \n",
       "\n",
       "       pixel8  ...  pixel774  pixel775  pixel776  pixel777  pixel778  \\\n",
       "0           0  ...         0         0         0         0         0   \n",
       "1           0  ...         0         0         0         0         0   \n",
       "2           0  ...         0         0         0         0         0   \n",
       "3           0  ...         0         0         0         0         0   \n",
       "4           0  ...         0         0         0         0         0   \n",
       "...       ...  ...       ...       ...       ...       ...       ...   \n",
       "41995       0  ...         0         0         0         0         0   \n",
       "41996       0  ...         0         0         0         0         0   \n",
       "41997       0  ...         0         0         0         0         0   \n",
       "41998       0  ...         0         0         0         0         0   \n",
       "41999       0  ...         0         0         0         0         0   \n",
       "\n",
       "       pixel779  pixel780  pixel781  pixel782  pixel783  \n",
       "0             0         0         0         0         0  \n",
       "1             0         0         0         0         0  \n",
       "2             0         0         0         0         0  \n",
       "3             0         0         0         0         0  \n",
       "4             0         0         0         0         0  \n",
       "...         ...       ...       ...       ...       ...  \n",
       "41995         0         0         0         0         0  \n",
       "41996         0         0         0         0         0  \n",
       "41997         0         0         0         0         0  \n",
       "41998         0         0         0         0         0  \n",
       "41999         0         0         0         0         0  \n",
       "\n",
       "[42000 rows x 785 columns]"
      ]
     },
     "execution_count": 2,
     "metadata": {},
     "output_type": "execute_result"
    }
   ],
   "source": [
    "df = pd.read_csv('C:/Users/zaome/Documents/Arthuro/Projet_reseau_neuronal/train.csv')\n",
    "df"
   ]
  },
  {
   "cell_type": "markdown",
   "id": "f5e912bd",
   "metadata": {},
   "source": [
    "### 🔢 Exploration des données"
   ]
  },
  {
   "cell_type": "markdown",
   "id": "62613385",
   "metadata": {},
   "source": [
    "🔢 Data shape"
   ]
  },
  {
   "cell_type": "code",
   "execution_count": 3,
   "id": "7c17a1df",
   "metadata": {},
   "outputs": [
    {
     "data": {
      "text/plain": [
       "(42000, 785)"
      ]
     },
     "execution_count": 3,
     "metadata": {},
     "output_type": "execute_result"
    }
   ],
   "source": [
    "df.shape"
   ]
  },
  {
   "cell_type": "markdown",
   "id": "5cde67aa",
   "metadata": {},
   "source": [
    "🔢 Data info"
   ]
  },
  {
   "cell_type": "code",
   "execution_count": 4,
   "id": "cb8b7806",
   "metadata": {},
   "outputs": [
    {
     "name": "stdout",
     "output_type": "stream",
     "text": [
      "<class 'pandas.core.frame.DataFrame'>\n",
      "RangeIndex: 42000 entries, 0 to 41999\n",
      "Columns: 785 entries, label to pixel783\n",
      "dtypes: int64(785)\n",
      "memory usage: 251.5 MB\n"
     ]
    }
   ],
   "source": [
    "df.info()"
   ]
  },
  {
   "cell_type": "markdown",
   "id": "db4de7a6",
   "metadata": {},
   "source": [
    "🔢 Data descriptive"
   ]
  },
  {
   "cell_type": "code",
   "execution_count": 5,
   "id": "a435832a",
   "metadata": {},
   "outputs": [
    {
     "data": {
      "text/html": [
       "<div>\n",
       "<style scoped>\n",
       "    .dataframe tbody tr th:only-of-type {\n",
       "        vertical-align: middle;\n",
       "    }\n",
       "\n",
       "    .dataframe tbody tr th {\n",
       "        vertical-align: top;\n",
       "    }\n",
       "\n",
       "    .dataframe thead th {\n",
       "        text-align: right;\n",
       "    }\n",
       "</style>\n",
       "<table border=\"1\" class=\"dataframe\">\n",
       "  <thead>\n",
       "    <tr style=\"text-align: right;\">\n",
       "      <th></th>\n",
       "      <th>label</th>\n",
       "      <th>pixel0</th>\n",
       "      <th>pixel1</th>\n",
       "      <th>pixel2</th>\n",
       "      <th>pixel3</th>\n",
       "      <th>pixel4</th>\n",
       "      <th>pixel5</th>\n",
       "      <th>pixel6</th>\n",
       "      <th>pixel7</th>\n",
       "      <th>pixel8</th>\n",
       "      <th>...</th>\n",
       "      <th>pixel774</th>\n",
       "      <th>pixel775</th>\n",
       "      <th>pixel776</th>\n",
       "      <th>pixel777</th>\n",
       "      <th>pixel778</th>\n",
       "      <th>pixel779</th>\n",
       "      <th>pixel780</th>\n",
       "      <th>pixel781</th>\n",
       "      <th>pixel782</th>\n",
       "      <th>pixel783</th>\n",
       "    </tr>\n",
       "  </thead>\n",
       "  <tbody>\n",
       "    <tr>\n",
       "      <th>count</th>\n",
       "      <td>42000.000000</td>\n",
       "      <td>42000.0</td>\n",
       "      <td>42000.0</td>\n",
       "      <td>42000.0</td>\n",
       "      <td>42000.0</td>\n",
       "      <td>42000.0</td>\n",
       "      <td>42000.0</td>\n",
       "      <td>42000.0</td>\n",
       "      <td>42000.0</td>\n",
       "      <td>42000.0</td>\n",
       "      <td>...</td>\n",
       "      <td>42000.000000</td>\n",
       "      <td>42000.000000</td>\n",
       "      <td>42000.000000</td>\n",
       "      <td>42000.00000</td>\n",
       "      <td>42000.000000</td>\n",
       "      <td>42000.000000</td>\n",
       "      <td>42000.0</td>\n",
       "      <td>42000.0</td>\n",
       "      <td>42000.0</td>\n",
       "      <td>42000.0</td>\n",
       "    </tr>\n",
       "    <tr>\n",
       "      <th>mean</th>\n",
       "      <td>4.456643</td>\n",
       "      <td>0.0</td>\n",
       "      <td>0.0</td>\n",
       "      <td>0.0</td>\n",
       "      <td>0.0</td>\n",
       "      <td>0.0</td>\n",
       "      <td>0.0</td>\n",
       "      <td>0.0</td>\n",
       "      <td>0.0</td>\n",
       "      <td>0.0</td>\n",
       "      <td>...</td>\n",
       "      <td>0.219286</td>\n",
       "      <td>0.117095</td>\n",
       "      <td>0.059024</td>\n",
       "      <td>0.02019</td>\n",
       "      <td>0.017238</td>\n",
       "      <td>0.002857</td>\n",
       "      <td>0.0</td>\n",
       "      <td>0.0</td>\n",
       "      <td>0.0</td>\n",
       "      <td>0.0</td>\n",
       "    </tr>\n",
       "    <tr>\n",
       "      <th>std</th>\n",
       "      <td>2.887730</td>\n",
       "      <td>0.0</td>\n",
       "      <td>0.0</td>\n",
       "      <td>0.0</td>\n",
       "      <td>0.0</td>\n",
       "      <td>0.0</td>\n",
       "      <td>0.0</td>\n",
       "      <td>0.0</td>\n",
       "      <td>0.0</td>\n",
       "      <td>0.0</td>\n",
       "      <td>...</td>\n",
       "      <td>6.312890</td>\n",
       "      <td>4.633819</td>\n",
       "      <td>3.274488</td>\n",
       "      <td>1.75987</td>\n",
       "      <td>1.894498</td>\n",
       "      <td>0.414264</td>\n",
       "      <td>0.0</td>\n",
       "      <td>0.0</td>\n",
       "      <td>0.0</td>\n",
       "      <td>0.0</td>\n",
       "    </tr>\n",
       "    <tr>\n",
       "      <th>min</th>\n",
       "      <td>0.000000</td>\n",
       "      <td>0.0</td>\n",
       "      <td>0.0</td>\n",
       "      <td>0.0</td>\n",
       "      <td>0.0</td>\n",
       "      <td>0.0</td>\n",
       "      <td>0.0</td>\n",
       "      <td>0.0</td>\n",
       "      <td>0.0</td>\n",
       "      <td>0.0</td>\n",
       "      <td>...</td>\n",
       "      <td>0.000000</td>\n",
       "      <td>0.000000</td>\n",
       "      <td>0.000000</td>\n",
       "      <td>0.00000</td>\n",
       "      <td>0.000000</td>\n",
       "      <td>0.000000</td>\n",
       "      <td>0.0</td>\n",
       "      <td>0.0</td>\n",
       "      <td>0.0</td>\n",
       "      <td>0.0</td>\n",
       "    </tr>\n",
       "    <tr>\n",
       "      <th>25%</th>\n",
       "      <td>2.000000</td>\n",
       "      <td>0.0</td>\n",
       "      <td>0.0</td>\n",
       "      <td>0.0</td>\n",
       "      <td>0.0</td>\n",
       "      <td>0.0</td>\n",
       "      <td>0.0</td>\n",
       "      <td>0.0</td>\n",
       "      <td>0.0</td>\n",
       "      <td>0.0</td>\n",
       "      <td>...</td>\n",
       "      <td>0.000000</td>\n",
       "      <td>0.000000</td>\n",
       "      <td>0.000000</td>\n",
       "      <td>0.00000</td>\n",
       "      <td>0.000000</td>\n",
       "      <td>0.000000</td>\n",
       "      <td>0.0</td>\n",
       "      <td>0.0</td>\n",
       "      <td>0.0</td>\n",
       "      <td>0.0</td>\n",
       "    </tr>\n",
       "    <tr>\n",
       "      <th>50%</th>\n",
       "      <td>4.000000</td>\n",
       "      <td>0.0</td>\n",
       "      <td>0.0</td>\n",
       "      <td>0.0</td>\n",
       "      <td>0.0</td>\n",
       "      <td>0.0</td>\n",
       "      <td>0.0</td>\n",
       "      <td>0.0</td>\n",
       "      <td>0.0</td>\n",
       "      <td>0.0</td>\n",
       "      <td>...</td>\n",
       "      <td>0.000000</td>\n",
       "      <td>0.000000</td>\n",
       "      <td>0.000000</td>\n",
       "      <td>0.00000</td>\n",
       "      <td>0.000000</td>\n",
       "      <td>0.000000</td>\n",
       "      <td>0.0</td>\n",
       "      <td>0.0</td>\n",
       "      <td>0.0</td>\n",
       "      <td>0.0</td>\n",
       "    </tr>\n",
       "    <tr>\n",
       "      <th>75%</th>\n",
       "      <td>7.000000</td>\n",
       "      <td>0.0</td>\n",
       "      <td>0.0</td>\n",
       "      <td>0.0</td>\n",
       "      <td>0.0</td>\n",
       "      <td>0.0</td>\n",
       "      <td>0.0</td>\n",
       "      <td>0.0</td>\n",
       "      <td>0.0</td>\n",
       "      <td>0.0</td>\n",
       "      <td>...</td>\n",
       "      <td>0.000000</td>\n",
       "      <td>0.000000</td>\n",
       "      <td>0.000000</td>\n",
       "      <td>0.00000</td>\n",
       "      <td>0.000000</td>\n",
       "      <td>0.000000</td>\n",
       "      <td>0.0</td>\n",
       "      <td>0.0</td>\n",
       "      <td>0.0</td>\n",
       "      <td>0.0</td>\n",
       "    </tr>\n",
       "    <tr>\n",
       "      <th>max</th>\n",
       "      <td>9.000000</td>\n",
       "      <td>0.0</td>\n",
       "      <td>0.0</td>\n",
       "      <td>0.0</td>\n",
       "      <td>0.0</td>\n",
       "      <td>0.0</td>\n",
       "      <td>0.0</td>\n",
       "      <td>0.0</td>\n",
       "      <td>0.0</td>\n",
       "      <td>0.0</td>\n",
       "      <td>...</td>\n",
       "      <td>254.000000</td>\n",
       "      <td>254.000000</td>\n",
       "      <td>253.000000</td>\n",
       "      <td>253.00000</td>\n",
       "      <td>254.000000</td>\n",
       "      <td>62.000000</td>\n",
       "      <td>0.0</td>\n",
       "      <td>0.0</td>\n",
       "      <td>0.0</td>\n",
       "      <td>0.0</td>\n",
       "    </tr>\n",
       "  </tbody>\n",
       "</table>\n",
       "<p>8 rows × 785 columns</p>\n",
       "</div>"
      ],
      "text/plain": [
       "              label   pixel0   pixel1   pixel2   pixel3   pixel4   pixel5  \\\n",
       "count  42000.000000  42000.0  42000.0  42000.0  42000.0  42000.0  42000.0   \n",
       "mean       4.456643      0.0      0.0      0.0      0.0      0.0      0.0   \n",
       "std        2.887730      0.0      0.0      0.0      0.0      0.0      0.0   \n",
       "min        0.000000      0.0      0.0      0.0      0.0      0.0      0.0   \n",
       "25%        2.000000      0.0      0.0      0.0      0.0      0.0      0.0   \n",
       "50%        4.000000      0.0      0.0      0.0      0.0      0.0      0.0   \n",
       "75%        7.000000      0.0      0.0      0.0      0.0      0.0      0.0   \n",
       "max        9.000000      0.0      0.0      0.0      0.0      0.0      0.0   \n",
       "\n",
       "        pixel6   pixel7   pixel8  ...      pixel774      pixel775  \\\n",
       "count  42000.0  42000.0  42000.0  ...  42000.000000  42000.000000   \n",
       "mean       0.0      0.0      0.0  ...      0.219286      0.117095   \n",
       "std        0.0      0.0      0.0  ...      6.312890      4.633819   \n",
       "min        0.0      0.0      0.0  ...      0.000000      0.000000   \n",
       "25%        0.0      0.0      0.0  ...      0.000000      0.000000   \n",
       "50%        0.0      0.0      0.0  ...      0.000000      0.000000   \n",
       "75%        0.0      0.0      0.0  ...      0.000000      0.000000   \n",
       "max        0.0      0.0      0.0  ...    254.000000    254.000000   \n",
       "\n",
       "           pixel776     pixel777      pixel778      pixel779  pixel780  \\\n",
       "count  42000.000000  42000.00000  42000.000000  42000.000000   42000.0   \n",
       "mean       0.059024      0.02019      0.017238      0.002857       0.0   \n",
       "std        3.274488      1.75987      1.894498      0.414264       0.0   \n",
       "min        0.000000      0.00000      0.000000      0.000000       0.0   \n",
       "25%        0.000000      0.00000      0.000000      0.000000       0.0   \n",
       "50%        0.000000      0.00000      0.000000      0.000000       0.0   \n",
       "75%        0.000000      0.00000      0.000000      0.000000       0.0   \n",
       "max      253.000000    253.00000    254.000000     62.000000       0.0   \n",
       "\n",
       "       pixel781  pixel782  pixel783  \n",
       "count   42000.0   42000.0   42000.0  \n",
       "mean        0.0       0.0       0.0  \n",
       "std         0.0       0.0       0.0  \n",
       "min         0.0       0.0       0.0  \n",
       "25%         0.0       0.0       0.0  \n",
       "50%         0.0       0.0       0.0  \n",
       "75%         0.0       0.0       0.0  \n",
       "max         0.0       0.0       0.0  \n",
       "\n",
       "[8 rows x 785 columns]"
      ]
     },
     "execution_count": 5,
     "metadata": {},
     "output_type": "execute_result"
    }
   ],
   "source": [
    "df.describe()"
   ]
  },
  {
   "cell_type": "markdown",
   "id": "4cfe4b72",
   "metadata": {},
   "source": [
    "🔢 Librairies"
   ]
  },
  {
   "cell_type": "code",
   "execution_count": 6,
   "id": "718252ee",
   "metadata": {},
   "outputs": [],
   "source": [
    "from tensorflow import keras\n",
    "import tensorflow as tf"
   ]
  },
  {
   "cell_type": "markdown",
   "id": "d827dfc0",
   "metadata": {},
   "source": [
    "🔢 Images"
   ]
  },
  {
   "cell_type": "code",
   "execution_count": 7,
   "id": "cc2e1ee2",
   "metadata": {},
   "outputs": [],
   "source": [
    "y1 = np.array(df.iloc[:,0].values)\n",
    "x1 = np.array(df.iloc[:,1:].values)"
   ]
  },
  {
   "cell_type": "code",
   "execution_count": 8,
   "id": "7488dbce",
   "metadata": {},
   "outputs": [
    {
     "data": {
      "image/png": "[encoded data removed]",
      "text/plain": [
       "<Figure size 720x576 with 15 Axes>"
      ]
     },
     "metadata": {
      "needs_background": "light"
     },
     "output_type": "display_data"
    }
   ],
   "source": [
    "fig,axes = plt.subplots(3,5,figsize=(10,8))\n",
    "\n",
    "for i,ax in enumerate(axes.flat):\n",
    "    ax.imshow(x1[i].reshape([28,28]), cmap='gray')"
   ]
  },
  {
   "cell_type": "code",
   "execution_count": 9,
   "id": "3f462158",
   "metadata": {},
   "outputs": [
    {
     "data": {
      "text/plain": [
       "(42000, 784)"
      ]
     },
     "execution_count": 9,
     "metadata": {},
     "output_type": "execute_result"
    }
   ],
   "source": [
    "x1.shape"
   ]
  },
  {
   "cell_type": "markdown",
   "id": "89039593",
   "metadata": {},
   "source": [
    "### 🔢 Preprocessing"
   ]
  },
  {
   "cell_type": "markdown",
   "id": "3a89f13a",
   "metadata": {},
   "source": [
    "🔢 Normalisation"
   ]
  },
  {
   "cell_type": "code",
   "execution_count": 10,
   "id": "f988f686",
   "metadata": {},
   "outputs": [],
   "source": [
    "x1 = x1/255"
   ]
  },
  {
   "cell_type": "code",
   "execution_count": 11,
   "id": "2a5dc921",
   "metadata": {
    "scrolled": true
   },
   "outputs": [
    {
     "data": {
      "text/plain": [
       "1.0"
      ]
     },
     "execution_count": 11,
     "metadata": {},
     "output_type": "execute_result"
    }
   ],
   "source": [
    "np.unique(x1).max()"
   ]
  },
  {
   "cell_type": "code",
   "execution_count": 12,
   "id": "61ec8a10",
   "metadata": {},
   "outputs": [
    {
     "data": {
      "text/plain": [
       "(42000, 784)"
      ]
     },
     "execution_count": 12,
     "metadata": {},
     "output_type": "execute_result"
    }
   ],
   "source": [
    "x1.shape"
   ]
  },
  {
   "cell_type": "markdown",
   "id": "199e48ae",
   "metadata": {},
   "source": [
    "🔢 Reshape"
   ]
  },
  {
   "cell_type": "code",
   "execution_count": 13,
   "id": "a808b15f",
   "metadata": {},
   "outputs": [],
   "source": [
    "nb_image = x1.shape[0]\n",
    "heigh = 28\n",
    "width = 28\n",
    "train_image = heigh * width \n",
    "x1 = x1.reshape(nb_image, heigh, width, 1)"
   ]
  },
  {
   "cell_type": "code",
   "execution_count": 14,
   "id": "01484584",
   "metadata": {},
   "outputs": [
    {
     "data": {
      "text/plain": [
       "(42000, 28, 28, 1)"
      ]
     },
     "execution_count": 14,
     "metadata": {},
     "output_type": "execute_result"
    }
   ],
   "source": [
    "x1.shape"
   ]
  },
  {
   "cell_type": "code",
   "execution_count": 15,
   "id": "ca7c26ae",
   "metadata": {},
   "outputs": [
    {
     "data": {
      "text/plain": [
       "(42000,)"
      ]
     },
     "execution_count": 15,
     "metadata": {},
     "output_type": "execute_result"
    }
   ],
   "source": [
    "y1.shape"
   ]
  },
  {
   "cell_type": "markdown",
   "id": "4bb23386",
   "metadata": {},
   "source": [
    "🔢 Variable catégorical"
   ]
  },
  {
   "cell_type": "code",
   "execution_count": 16,
   "id": "0f695a25",
   "metadata": {},
   "outputs": [],
   "source": [
    "y1 = tf.keras.utils.to_categorical(y1, 10)"
   ]
  },
  {
   "cell_type": "code",
   "execution_count": 17,
   "id": "c24cceed",
   "metadata": {},
   "outputs": [
    {
     "data": {
      "text/plain": [
       "(42000, 10)"
      ]
     },
     "execution_count": 17,
     "metadata": {},
     "output_type": "execute_result"
    }
   ],
   "source": [
    "y1.shape"
   ]
  },
  {
   "cell_type": "code",
   "execution_count": 18,
   "id": "d0e85d38",
   "metadata": {},
   "outputs": [
    {
     "data": {
      "text/plain": [
       "array([0., 1., 0., 0., 0., 0., 0., 0., 0., 0.], dtype=float32)"
      ]
     },
     "execution_count": 18,
     "metadata": {},
     "output_type": "execute_result"
    }
   ],
   "source": [
    "y1[0]"
   ]
  },
  {
   "cell_type": "markdown",
   "id": "644df640",
   "metadata": {},
   "source": [
    "### 🔢 Modelisation"
   ]
  },
  {
   "cell_type": "markdown",
   "id": "90ed2d9c",
   "metadata": {},
   "source": [
    "🔢 Import librairies"
   ]
  },
  {
   "cell_type": "code",
   "execution_count": 19,
   "id": "eb7ed59e",
   "metadata": {},
   "outputs": [],
   "source": [
    "from sklearn.metrics import classification_report\n",
    "from sklearn.model_selection import train_test_split\n",
    "from tensorflow.keras.models import Sequential\n",
    "from tensorflow.keras.layers import Dense\n",
    "from tensorflow.keras import layers\n",
    "from keras.layers import Conv2D, MaxPooling2D\n",
    "from keras.layers import Flatten"
   ]
  },
  {
   "cell_type": "code",
   "execution_count": 20,
   "id": "621b6015",
   "metadata": {},
   "outputs": [],
   "source": [
    "X_train, X_test, y_train, y_test = train_test_split(x1, y1, test_size = 0.3, random_state=1)"
   ]
  },
  {
   "cell_type": "code",
   "execution_count": 21,
   "id": "53380afa",
   "metadata": {},
   "outputs": [
    {
     "name": "stdout",
     "output_type": "stream",
     "text": [
      "(29400, 28, 28, 1)\n",
      "(29400, 10)\n"
     ]
    }
   ],
   "source": [
    "print(X_train.shape)\n",
    "print(y_train.shape)"
   ]
  },
  {
   "cell_type": "code",
   "execution_count": 22,
   "id": "b9e009d2",
   "metadata": {},
   "outputs": [
    {
     "data": {
      "text/plain": [
       "(28, 28, 1)"
      ]
     },
     "execution_count": 22,
     "metadata": {},
     "output_type": "execute_result"
    }
   ],
   "source": [
    "input_dim = X_train.shape[1:]\n",
    "input_dim"
   ]
  },
  {
   "cell_type": "markdown",
   "id": "38e66e96",
   "metadata": {},
   "source": [
    "### 1️⃣ Iteration 1"
   ]
  },
  {
   "cell_type": "markdown",
   "id": "5089b9b5",
   "metadata": {},
   "source": [
    "* Conv2D : 32\n",
    "* Dense : 512\n",
    "* Dense : 10\n",
    "* batch_size : 128\n",
    "* epoch : 10"
   ]
  },
  {
   "cell_type": "markdown",
   "id": "f1c170fc",
   "metadata": {},
   "source": [
    "🔢 Initiation modele"
   ]
  },
  {
   "cell_type": "code",
   "execution_count": 27,
   "id": "231e3e5b",
   "metadata": {},
   "outputs": [],
   "source": [
    "model = Sequential()\n",
    "#Convolution\n",
    "model.add(Conv2D(32, (3,3), activation = 'relu', input_shape = input_dim))\n",
    "model.add(MaxPooling2D(pool_size = (2, 2)))\n",
    "#Flatten\n",
    "model.add(Flatten())\n",
    "#Connexion\n",
    "model.add(Dense(units = 512, activation = 'relu'))\n",
    "model.add(Dense(units = 10, activation = 'softmax'))"
   ]
  },
  {
   "cell_type": "markdown",
   "id": "1216255e",
   "metadata": {},
   "source": [
    "🔢 Modele compile "
   ]
  },
  {
   "cell_type": "code",
   "execution_count": 28,
   "id": "cb76d5f9",
   "metadata": {},
   "outputs": [],
   "source": [
    "model.compile(optimizer = 'adam',\n",
    "              loss = 'categorical_crossentropy', \n",
    "              metrics = ['accuracy'])"
   ]
  },
  {
   "cell_type": "markdown",
   "id": "cde6e1f7",
   "metadata": {},
   "source": [
    "🔢 Modele fit"
   ]
  },
  {
   "cell_type": "code",
   "execution_count": 29,
   "id": "8684917b",
   "metadata": {},
   "outputs": [
    {
     "name": "stdout",
     "output_type": "stream",
     "text": [
      "Epoch 1/10\n",
      "184/184 [==============================] - 7s 35ms/step - loss: 0.2902 - accuracy: 0.9118 - val_loss: 0.1173 - val_accuracy: 0.9677\n",
      "Epoch 2/10\n",
      "184/184 [==============================] - 6s 34ms/step - loss: 0.0851 - accuracy: 0.9744 - val_loss: 0.0908 - val_accuracy: 0.9716\n",
      "Epoch 3/10\n",
      "184/184 [==============================] - 6s 35ms/step - loss: 0.0491 - accuracy: 0.9854 - val_loss: 0.0794 - val_accuracy: 0.9755\n",
      "Epoch 4/10\n",
      "184/184 [==============================] - 7s 40ms/step - loss: 0.0331 - accuracy: 0.9904 - val_loss: 0.0697 - val_accuracy: 0.9796\n",
      "Epoch 5/10\n",
      "184/184 [==============================] - 8s 42ms/step - loss: 0.0201 - accuracy: 0.9942 - val_loss: 0.0701 - val_accuracy: 0.9796\n",
      "Epoch 6/10\n",
      "184/184 [==============================] - 7s 40ms/step - loss: 0.0154 - accuracy: 0.9956 - val_loss: 0.0830 - val_accuracy: 0.9757\n",
      "Epoch 7/10\n",
      "184/184 [==============================] - 8s 42ms/step - loss: 0.0106 - accuracy: 0.9970 - val_loss: 0.0633 - val_accuracy: 0.9810\n",
      "Epoch 8/10\n",
      "184/184 [==============================] - 7s 40ms/step - loss: 0.0055 - accuracy: 0.9987 - val_loss: 0.0676 - val_accuracy: 0.9818\n",
      "Epoch 9/10\n",
      "184/184 [==============================] - 8s 41ms/step - loss: 0.0046 - accuracy: 0.9990 - val_loss: 0.0773 - val_accuracy: 0.9818\n",
      "Epoch 10/10\n",
      "184/184 [==============================] - 7s 40ms/step - loss: 0.0045 - accuracy: 0.9991 - val_loss: 0.0752 - val_accuracy: 0.9820\n"
     ]
    }
   ],
   "source": [
    "validation_split = 0.2\n",
    "history = model.fit(X_train,y_train,\n",
    "                    validation_split = validation_split,\n",
    "                    batch_size = 128,\n",
    "                    epochs = 10)"
   ]
  },
  {
   "cell_type": "markdown",
   "id": "daa18690",
   "metadata": {},
   "source": [
    "🔢 Score"
   ]
  },
  {
   "cell_type": "code",
   "execution_count": 30,
   "id": "3f6f4fea",
   "metadata": {},
   "outputs": [
    {
     "name": "stdout",
     "output_type": "stream",
     "text": [
      "Test loss: 0.06560404598712921\n",
      "Test accuracy: 0.9832539558410645\n"
     ]
    }
   ],
   "source": [
    "score = model.evaluate (X_test, y_test, verbose = 0)\n",
    "print ('Test loss:', score [0])\n",
    "print ('Test accuracy:', score [1])"
   ]
  },
  {
   "cell_type": "markdown",
   "id": "79df3389",
   "metadata": {},
   "source": [
    "🔢 Parametres"
   ]
  },
  {
   "cell_type": "code",
   "execution_count": 31,
   "id": "74f4ad3c",
   "metadata": {
    "scrolled": false
   },
   "outputs": [
    {
     "name": "stdout",
     "output_type": "stream",
     "text": [
      "Model: \"sequential_1\"\n",
      "_________________________________________________________________\n",
      " Layer (type)                Output Shape              Param #   \n",
      "=================================================================\n",
      " conv2d_1 (Conv2D)           (None, 26, 26, 32)        320       \n",
      "                                                                 \n",
      " max_pooling2d_1 (MaxPooling  (None, 13, 13, 32)       0         \n",
      " 2D)                                                             \n",
      "                                                                 \n",
      " flatten_1 (Flatten)         (None, 5408)              0         \n",
      "                                                                 \n",
      " dense_2 (Dense)             (None, 512)               2769408   \n",
      "                                                                 \n",
      " dense_3 (Dense)             (None, 10)                5130      \n",
      "                                                                 \n",
      "=================================================================\n",
      "Total params: 2,774,858\n",
      "Trainable params: 2,774,858\n",
      "Non-trainable params: 0\n",
      "_________________________________________________________________\n"
     ]
    }
   ],
   "source": [
    "model.summary()"
   ]
  },
  {
   "cell_type": "markdown",
   "id": "9f0cedcd",
   "metadata": {},
   "source": [
    "🔢 Shape"
   ]
  },
  {
   "cell_type": "code",
   "execution_count": 32,
   "id": "8c401ecd",
   "metadata": {},
   "outputs": [
    {
     "data": {
      "text/plain": [
       "(29400, 28, 28, 1)"
      ]
     },
     "execution_count": 32,
     "metadata": {},
     "output_type": "execute_result"
    }
   ],
   "source": [
    "X_train.shape"
   ]
  },
  {
   "cell_type": "code",
   "execution_count": 33,
   "id": "10e7c3e6",
   "metadata": {},
   "outputs": [
    {
     "data": {
      "text/plain": [
       "(29400, 10)"
      ]
     },
     "execution_count": 33,
     "metadata": {},
     "output_type": "execute_result"
    }
   ],
   "source": [
    "y_train.shape"
   ]
  },
  {
   "cell_type": "markdown",
   "id": "dfcb688c",
   "metadata": {},
   "source": [
    "🔢 DataFrame"
   ]
  },
  {
   "cell_type": "code",
   "execution_count": 34,
   "id": "2c96f90e",
   "metadata": {},
   "outputs": [
    {
     "data": {
      "text/html": [
       "<div>\n",
       "<style scoped>\n",
       "    .dataframe tbody tr th:only-of-type {\n",
       "        vertical-align: middle;\n",
       "    }\n",
       "\n",
       "    .dataframe tbody tr th {\n",
       "        vertical-align: top;\n",
       "    }\n",
       "\n",
       "    .dataframe thead th {\n",
       "        text-align: right;\n",
       "    }\n",
       "</style>\n",
       "<table border=\"1\" class=\"dataframe\">\n",
       "  <thead>\n",
       "    <tr style=\"text-align: right;\">\n",
       "      <th></th>\n",
       "      <th>loss</th>\n",
       "      <th>accuracy</th>\n",
       "      <th>val_loss</th>\n",
       "      <th>val_accuracy</th>\n",
       "    </tr>\n",
       "  </thead>\n",
       "  <tbody>\n",
       "    <tr>\n",
       "      <th>0</th>\n",
       "      <td>0.290193</td>\n",
       "      <td>0.911820</td>\n",
       "      <td>0.117332</td>\n",
       "      <td>0.967687</td>\n",
       "    </tr>\n",
       "    <tr>\n",
       "      <th>1</th>\n",
       "      <td>0.085088</td>\n",
       "      <td>0.974447</td>\n",
       "      <td>0.090814</td>\n",
       "      <td>0.971599</td>\n",
       "    </tr>\n",
       "    <tr>\n",
       "      <th>2</th>\n",
       "      <td>0.049106</td>\n",
       "      <td>0.985374</td>\n",
       "      <td>0.079443</td>\n",
       "      <td>0.975510</td>\n",
       "    </tr>\n",
       "    <tr>\n",
       "      <th>3</th>\n",
       "      <td>0.033055</td>\n",
       "      <td>0.990434</td>\n",
       "      <td>0.069683</td>\n",
       "      <td>0.979592</td>\n",
       "    </tr>\n",
       "    <tr>\n",
       "      <th>4</th>\n",
       "      <td>0.020112</td>\n",
       "      <td>0.994175</td>\n",
       "      <td>0.070081</td>\n",
       "      <td>0.979592</td>\n",
       "    </tr>\n",
       "    <tr>\n",
       "      <th>5</th>\n",
       "      <td>0.015381</td>\n",
       "      <td>0.995578</td>\n",
       "      <td>0.083029</td>\n",
       "      <td>0.975680</td>\n",
       "    </tr>\n",
       "    <tr>\n",
       "      <th>6</th>\n",
       "      <td>0.010648</td>\n",
       "      <td>0.996981</td>\n",
       "      <td>0.063250</td>\n",
       "      <td>0.980952</td>\n",
       "    </tr>\n",
       "    <tr>\n",
       "      <th>7</th>\n",
       "      <td>0.005460</td>\n",
       "      <td>0.998682</td>\n",
       "      <td>0.067630</td>\n",
       "      <td>0.981803</td>\n",
       "    </tr>\n",
       "    <tr>\n",
       "      <th>8</th>\n",
       "      <td>0.004591</td>\n",
       "      <td>0.999022</td>\n",
       "      <td>0.077341</td>\n",
       "      <td>0.981803</td>\n",
       "    </tr>\n",
       "    <tr>\n",
       "      <th>9</th>\n",
       "      <td>0.004470</td>\n",
       "      <td>0.999107</td>\n",
       "      <td>0.075189</td>\n",
       "      <td>0.981973</td>\n",
       "    </tr>\n",
       "  </tbody>\n",
       "</table>\n",
       "</div>"
      ],
      "text/plain": [
       "       loss  accuracy  val_loss  val_accuracy\n",
       "0  0.290193  0.911820  0.117332      0.967687\n",
       "1  0.085088  0.974447  0.090814      0.971599\n",
       "2  0.049106  0.985374  0.079443      0.975510\n",
       "3  0.033055  0.990434  0.069683      0.979592\n",
       "4  0.020112  0.994175  0.070081      0.979592\n",
       "5  0.015381  0.995578  0.083029      0.975680\n",
       "6  0.010648  0.996981  0.063250      0.980952\n",
       "7  0.005460  0.998682  0.067630      0.981803\n",
       "8  0.004591  0.999022  0.077341      0.981803\n",
       "9  0.004470  0.999107  0.075189      0.981973"
      ]
     },
     "execution_count": 34,
     "metadata": {},
     "output_type": "execute_result"
    }
   ],
   "source": [
    "history_df = pd.DataFrame(history.history)\n",
    "history_df"
   ]
  },
  {
   "cell_type": "markdown",
   "id": "94e8b41b",
   "metadata": {},
   "source": [
    "🔢 Valeurs clés"
   ]
  },
  {
   "cell_type": "code",
   "execution_count": 35,
   "id": "d49ec7f8",
   "metadata": {},
   "outputs": [
    {
     "name": "stdout",
     "output_type": "stream",
     "text": [
      "dict_keys(['loss', 'accuracy', 'val_loss', 'val_accuracy'])\n"
     ]
    }
   ],
   "source": [
    "print(history.history.keys())"
   ]
  },
  {
   "cell_type": "markdown",
   "id": "07143b34",
   "metadata": {},
   "source": [
    "🔢 Courbes loss et accuracy"
   ]
  },
  {
   "cell_type": "code",
   "execution_count": 36,
   "id": "c3244fa2",
   "metadata": {},
   "outputs": [
    {
     "data": {
      "image/png": "[encoded data removed]",
      "text/plain": [
       "<Figure size 432x288 with 1 Axes>"
      ]
     },
     "metadata": {
      "needs_background": "light"
     },
     "output_type": "display_data"
    },
    {
     "data": {
      "image/png": "[encoded data removed]",
      "text/plain": [
       "<Figure size 432x288 with 1 Axes>"
      ]
     },
     "metadata": {
      "needs_background": "light"
     },
     "output_type": "display_data"
    }
   ],
   "source": [
    "# Courbe loss\n",
    "plt.plot(history.history['loss'])\n",
    "plt.plot(history.history['val_loss'])\n",
    "\n",
    "plt.title('model loss')\n",
    "plt.ylabel('loss')\n",
    "plt.xlabel('epoch')\n",
    "plt.legend(['train', 'val_loss'])\n",
    "\n",
    "plt.show()\n",
    "\n",
    "# Courbe accuracy\n",
    "plt.plot(history.history['accuracy'])\n",
    "plt.plot(history.history['val_accuracy'])\n",
    "\n",
    "plt.title('model loss')\n",
    "plt.ylabel('accuracy')\n",
    "plt.xlabel('epoch')\n",
    "plt.legend(['train', 'val_accuracy'])\n",
    "\n",
    "plt.show()"
   ]
  },
  {
   "cell_type": "markdown",
   "id": "a3cb82fd",
   "metadata": {},
   "source": [
    "🔢 y_pred"
   ]
  },
  {
   "cell_type": "code",
   "execution_count": 37,
   "id": "053fd5ba",
   "metadata": {},
   "outputs": [],
   "source": [
    "y_pred = model.predict(X_test)"
   ]
  },
  {
   "cell_type": "markdown",
   "id": "d6ccc889",
   "metadata": {},
   "source": [
    "🔢 Classification report"
   ]
  },
  {
   "cell_type": "code",
   "execution_count": 38,
   "id": "16a151ab",
   "metadata": {},
   "outputs": [
    {
     "name": "stdout",
     "output_type": "stream",
     "text": [
      "              precision    recall  f1-score   support\n",
      "\n",
      "           0       0.98      0.99      0.99      1247\n",
      "           1       0.99      0.99      0.99      1395\n",
      "           2       0.98      0.98      0.98      1257\n",
      "           3       0.99      0.98      0.98      1321\n",
      "           4       0.98      0.99      0.99      1232\n",
      "           5       0.99      0.96      0.98      1111\n",
      "           6       0.98      0.99      0.99      1258\n",
      "           7       0.99      0.98      0.98      1285\n",
      "           8       0.98      0.97      0.97      1249\n",
      "           9       0.98      0.97      0.98      1245\n",
      "\n",
      "   micro avg       0.98      0.98      0.98     12600\n",
      "   macro avg       0.98      0.98      0.98     12600\n",
      "weighted avg       0.98      0.98      0.98     12600\n",
      " samples avg       0.98      0.98      0.98     12600\n",
      "\n"
     ]
    },
    {
     "name": "stderr",
     "output_type": "stream",
     "text": [
      "C:\\Users\\zaome\\AppData\\Roaming\\Python\\Python38\\site-packages\\sklearn\\metrics\\_classification.py:1221: UndefinedMetricWarning: Precision and F-score are ill-defined and being set to 0.0 in samples with no predicted labels. Use `zero_division` parameter to control this behavior.\n",
      "  _warn_prf(average, modifier, msg_start, len(result))\n"
     ]
    }
   ],
   "source": [
    "print(classification_report(y_test, np.around(y_pred)))"
   ]
  },
  {
   "cell_type": "markdown",
   "id": "995cf369",
   "metadata": {},
   "source": [
    "### 2️⃣ Iteration 2"
   ]
  },
  {
   "cell_type": "markdown",
   "id": "5237f356",
   "metadata": {},
   "source": [
    "* Conv2D : 64\n",
    "* Dense : 64\n",
    "* Dense : 10\n",
    "* batch_size : 128\n",
    "* epoch : 10"
   ]
  },
  {
   "cell_type": "code",
   "execution_count": 39,
   "id": "3a8414d0",
   "metadata": {},
   "outputs": [
    {
     "name": "stdout",
     "output_type": "stream",
     "text": [
      "Epoch 1/10\n",
      "184/184 [==============================] - 8s 39ms/step - loss: 0.3611 - accuracy: 0.8980 - val_loss: 0.1645 - val_accuracy: 0.9517\n",
      "Epoch 2/10\n",
      "184/184 [==============================] - 7s 38ms/step - loss: 0.1112 - accuracy: 0.9681 - val_loss: 0.1061 - val_accuracy: 0.9684\n",
      "Epoch 3/10\n",
      "184/184 [==============================] - 7s 39ms/step - loss: 0.0681 - accuracy: 0.9804 - val_loss: 0.1000 - val_accuracy: 0.9702\n",
      "Epoch 4/10\n",
      "184/184 [==============================] - 8s 41ms/step - loss: 0.0517 - accuracy: 0.9849 - val_loss: 0.0794 - val_accuracy: 0.9765\n",
      "Epoch 5/10\n",
      "184/184 [==============================] - 8s 43ms/step - loss: 0.0369 - accuracy: 0.9889 - val_loss: 0.0747 - val_accuracy: 0.9782\n",
      "Epoch 6/10\n",
      "184/184 [==============================] - 8s 43ms/step - loss: 0.0281 - accuracy: 0.9921 - val_loss: 0.0717 - val_accuracy: 0.9789\n",
      "Epoch 7/10\n",
      "184/184 [==============================] - 8s 42ms/step - loss: 0.0220 - accuracy: 0.9939 - val_loss: 0.0815 - val_accuracy: 0.9759\n",
      "Epoch 8/10\n",
      "184/184 [==============================] - 8s 46ms/step - loss: 0.0169 - accuracy: 0.9952 - val_loss: 0.0735 - val_accuracy: 0.9798\n",
      "Epoch 9/10\n",
      "184/184 [==============================] - 8s 44ms/step - loss: 0.0124 - accuracy: 0.9970 - val_loss: 0.0788 - val_accuracy: 0.9796\n",
      "Epoch 10/10\n",
      "184/184 [==============================] - 8s 42ms/step - loss: 0.0096 - accuracy: 0.9978 - val_loss: 0.0797 - val_accuracy: 0.9793\n"
     ]
    }
   ],
   "source": [
    "#Initiation du modèle\n",
    "model = Sequential()\n",
    "\n",
    "#Convolution\n",
    "model.add(Conv2D(64, (3,3), activation = 'relu', input_shape = input_dim))\n",
    "model.add(MaxPooling2D(pool_size = (2, 2)))\n",
    "\n",
    "#Flatten\n",
    "model.add(Flatten())\n",
    "\n",
    "#Connexion\n",
    "model.add(Dense(units = 64, activation = 'relu'))\n",
    "model.add(Dense(units = 10, activation = 'softmax'))\n",
    "\n",
    "# Modèle compile\n",
    "model.compile(optimizer = 'adam',\n",
    "              loss = 'categorical_crossentropy', \n",
    "              metrics = ['accuracy'])\n",
    "\n",
    "# Modèle fit\n",
    "validation_split = 0.2\n",
    "history = model.fit(X_train,y_train,\n",
    "                    validation_split = validation_split,\n",
    "                    batch_size = 128,\n",
    "                    epochs = 10)"
   ]
  },
  {
   "cell_type": "markdown",
   "id": "93313794",
   "metadata": {},
   "source": [
    "🔢 Score"
   ]
  },
  {
   "cell_type": "code",
   "execution_count": 40,
   "id": "a9a92434",
   "metadata": {},
   "outputs": [
    {
     "name": "stdout",
     "output_type": "stream",
     "text": [
      "Test loss: 0.0716426819562912\n",
      "Test accuracy: 0.9810317754745483\n"
     ]
    }
   ],
   "source": [
    "score = model.evaluate (X_test, y_test, verbose = 0)\n",
    "print ('Test loss:', score [0])\n",
    "print ('Test accuracy:', score [1])"
   ]
  },
  {
   "cell_type": "markdown",
   "id": "f19bc94c",
   "metadata": {},
   "source": [
    "🔢 Paramètres"
   ]
  },
  {
   "cell_type": "code",
   "execution_count": 41,
   "id": "4694a842",
   "metadata": {},
   "outputs": [
    {
     "name": "stdout",
     "output_type": "stream",
     "text": [
      "Model: \"sequential_2\"\n",
      "_________________________________________________________________\n",
      " Layer (type)                Output Shape              Param #   \n",
      "=================================================================\n",
      " conv2d_2 (Conv2D)           (None, 26, 26, 64)        640       \n",
      "                                                                 \n",
      " max_pooling2d_2 (MaxPooling  (None, 13, 13, 64)       0         \n",
      " 2D)                                                             \n",
      "                                                                 \n",
      " flatten_2 (Flatten)         (None, 10816)             0         \n",
      "                                                                 \n",
      " dense_4 (Dense)             (None, 64)                692288    \n",
      "                                                                 \n",
      " dense_5 (Dense)             (None, 10)                650       \n",
      "                                                                 \n",
      "=================================================================\n",
      "Total params: 693,578\n",
      "Trainable params: 693,578\n",
      "Non-trainable params: 0\n",
      "_________________________________________________________________\n"
     ]
    }
   ],
   "source": [
    "model.summary()"
   ]
  },
  {
   "cell_type": "markdown",
   "id": "1c90f742",
   "metadata": {},
   "source": [
    "🔢 Courbes"
   ]
  },
  {
   "cell_type": "code",
   "execution_count": 42,
   "id": "40554c98",
   "metadata": {},
   "outputs": [
    {
     "data": {
      "image/png": "[encoded data removed]",
      "text/plain": [
       "<Figure size 432x288 with 1 Axes>"
      ]
     },
     "metadata": {
      "needs_background": "light"
     },
     "output_type": "display_data"
    },
    {
     "data": {
      "image/png": "[encoded data removed]",
      "text/plain": [
       "<Figure size 432x288 with 1 Axes>"
      ]
     },
     "metadata": {
      "needs_background": "light"
     },
     "output_type": "display_data"
    }
   ],
   "source": [
    "# Courbe loss\n",
    "plt.plot(history.history['loss'])\n",
    "plt.plot(history.history['val_loss'])\n",
    "\n",
    "plt.title('model loss')\n",
    "plt.ylabel('loss')\n",
    "plt.xlabel('epoch')\n",
    "plt.legend(['train', 'val_loss'])\n",
    "\n",
    "plt.show()\n",
    "\n",
    "# Courbe accuracy\n",
    "plt.plot(history.history['accuracy'])\n",
    "plt.plot(history.history['val_accuracy'])\n",
    "\n",
    "plt.title('model loss')\n",
    "plt.ylabel('accuracy')\n",
    "plt.xlabel('epoch')\n",
    "plt.legend(['train', 'val_accuracy'])\n",
    "\n",
    "plt.show()"
   ]
  },
  {
   "cell_type": "markdown",
   "id": "69413ff3",
   "metadata": {},
   "source": [
    "### 3️⃣ Iteration 3"
   ]
  },
  {
   "cell_type": "markdown",
   "id": "3190df6a",
   "metadata": {},
   "source": [
    "* Conv2D : 16\n",
    "* Dense : 128\n",
    "* Dense : 10\n",
    "* batch_size : 512\n",
    "* epoch : 16"
   ]
  },
  {
   "cell_type": "markdown",
   "id": "bfa03225",
   "metadata": {},
   "source": [
    "🔢 Modele"
   ]
  },
  {
   "cell_type": "code",
   "execution_count": 43,
   "id": "8fe755b0",
   "metadata": {
    "scrolled": false
   },
   "outputs": [
    {
     "name": "stdout",
     "output_type": "stream",
     "text": [
      "Epoch 1/16\n",
      "46/46 [==============================] - 3s 52ms/step - loss: 0.7392 - accuracy: 0.8087 - val_loss: 0.3247 - val_accuracy: 0.9087\n",
      "Epoch 2/16\n",
      "46/46 [==============================] - 3s 54ms/step - loss: 0.2761 - accuracy: 0.9192 - val_loss: 0.2498 - val_accuracy: 0.9304\n",
      "Epoch 3/16\n",
      "46/46 [==============================] - 2s 51ms/step - loss: 0.2122 - accuracy: 0.9383 - val_loss: 0.2111 - val_accuracy: 0.9408\n",
      "Epoch 4/16\n",
      "46/46 [==============================] - 2s 50ms/step - loss: 0.1722 - accuracy: 0.9499 - val_loss: 0.1801 - val_accuracy: 0.9485\n",
      "Epoch 5/16\n",
      "46/46 [==============================] - 2s 46ms/step - loss: 0.1402 - accuracy: 0.9592 - val_loss: 0.1600 - val_accuracy: 0.9549\n",
      "Epoch 6/16\n",
      "46/46 [==============================] - 2s 47ms/step - loss: 0.1172 - accuracy: 0.9673 - val_loss: 0.1414 - val_accuracy: 0.9590\n",
      "Epoch 7/16\n",
      "46/46 [==============================] - 2s 54ms/step - loss: 0.0994 - accuracy: 0.9729 - val_loss: 0.1392 - val_accuracy: 0.9599\n",
      "Epoch 8/16\n",
      "46/46 [==============================] - 2s 48ms/step - loss: 0.0862 - accuracy: 0.9763 - val_loss: 0.1189 - val_accuracy: 0.9663\n",
      "Epoch 9/16\n",
      "46/46 [==============================] - 3s 65ms/step - loss: 0.0716 - accuracy: 0.9811 - val_loss: 0.1117 - val_accuracy: 0.9682\n",
      "Epoch 10/16\n",
      "46/46 [==============================] - 3s 62ms/step - loss: 0.0673 - accuracy: 0.9810 - val_loss: 0.1048 - val_accuracy: 0.9697\n",
      "Epoch 11/16\n",
      "46/46 [==============================] - 3s 57ms/step - loss: 0.0588 - accuracy: 0.9830 - val_loss: 0.1000 - val_accuracy: 0.9696\n",
      "Epoch 12/16\n",
      "46/46 [==============================] - 3s 59ms/step - loss: 0.0524 - accuracy: 0.9860 - val_loss: 0.0974 - val_accuracy: 0.9707\n",
      "Epoch 13/16\n",
      "46/46 [==============================] - 3s 57ms/step - loss: 0.0443 - accuracy: 0.9881 - val_loss: 0.0976 - val_accuracy: 0.9707\n",
      "Epoch 14/16\n",
      "46/46 [==============================] - 3s 55ms/step - loss: 0.0397 - accuracy: 0.9895 - val_loss: 0.0941 - val_accuracy: 0.9706\n",
      "Epoch 15/16\n",
      "46/46 [==============================] - 3s 60ms/step - loss: 0.0339 - accuracy: 0.9912 - val_loss: 0.0884 - val_accuracy: 0.9730\n",
      "Epoch 16/16\n",
      "46/46 [==============================] - 3s 57ms/step - loss: 0.0317 - accuracy: 0.9919 - val_loss: 0.0943 - val_accuracy: 0.9716\n"
     ]
    }
   ],
   "source": [
    "#Initiation du modèle\n",
    "model = Sequential()\n",
    "\n",
    "#Convolution\n",
    "model.add(Conv2D(16, (3,3), activation = 'relu', input_shape = input_dim))\n",
    "model.add(MaxPooling2D(pool_size = (2, 2)))\n",
    "\n",
    "#Flatten\n",
    "model.add(Flatten())\n",
    "\n",
    "#Connexion\n",
    "model.add(Dense(units = 128, activation = 'relu'))\n",
    "model.add(Dense(units = 10, activation = 'softmax'))\n",
    "\n",
    "# Modèle compile\n",
    "model.compile(optimizer = 'adam',\n",
    "              loss = 'categorical_crossentropy', \n",
    "              metrics = ['accuracy'])\n",
    "\n",
    "# Modèle fit\n",
    "validation_split = 0.2\n",
    "history = model.fit(X_train,y_train,\n",
    "                    validation_split = validation_split,\n",
    "                    batch_size = 512,\n",
    "                    epochs = 16)"
   ]
  },
  {
   "cell_type": "markdown",
   "id": "b8491e90",
   "metadata": {},
   "source": [
    "🔢 Score"
   ]
  },
  {
   "cell_type": "code",
   "execution_count": 44,
   "id": "c85c7c58",
   "metadata": {},
   "outputs": [
    {
     "name": "stdout",
     "output_type": "stream",
     "text": [
      "Test loss: 0.07976233214139938\n",
      "Test accuracy: 0.9752380847930908\n"
     ]
    }
   ],
   "source": [
    "score = model.evaluate (X_test, y_test, verbose = 0)\n",
    "print ('Test loss:', score [0])\n",
    "print ('Test accuracy:', score [1])"
   ]
  },
  {
   "cell_type": "markdown",
   "id": "79c98ff3",
   "metadata": {},
   "source": [
    "🔢 Paramètres"
   ]
  },
  {
   "cell_type": "code",
   "execution_count": 45,
   "id": "73e2ffd6",
   "metadata": {},
   "outputs": [
    {
     "name": "stdout",
     "output_type": "stream",
     "text": [
      "Model: \"sequential_3\"\n",
      "_________________________________________________________________\n",
      " Layer (type)                Output Shape              Param #   \n",
      "=================================================================\n",
      " conv2d_3 (Conv2D)           (None, 26, 26, 16)        160       \n",
      "                                                                 \n",
      " max_pooling2d_3 (MaxPooling  (None, 13, 13, 16)       0         \n",
      " 2D)                                                             \n",
      "                                                                 \n",
      " flatten_3 (Flatten)         (None, 2704)              0         \n",
      "                                                                 \n",
      " dense_6 (Dense)             (None, 128)               346240    \n",
      "                                                                 \n",
      " dense_7 (Dense)             (None, 10)                1290      \n",
      "                                                                 \n",
      "=================================================================\n",
      "Total params: 347,690\n",
      "Trainable params: 347,690\n",
      "Non-trainable params: 0\n",
      "_________________________________________________________________\n"
     ]
    }
   ],
   "source": [
    "model.summary()"
   ]
  },
  {
   "cell_type": "markdown",
   "id": "aec2176b",
   "metadata": {},
   "source": [
    "🔢 Courbes"
   ]
  },
  {
   "cell_type": "code",
   "execution_count": 46,
   "id": "ad791fb9",
   "metadata": {},
   "outputs": [
    {
     "data": {
      "image/png": "[encoded data removed]",
      "text/plain": [
       "<Figure size 432x288 with 1 Axes>"
      ]
     },
     "metadata": {
      "needs_background": "light"
     },
     "output_type": "display_data"
    },
    {
     "data": {
      "image/png": "[encoded data removed]",
      "text/plain": [
       "<Figure size 432x288 with 1 Axes>"
      ]
     },
     "metadata": {
      "needs_background": "light"
     },
     "output_type": "display_data"
    }
   ],
   "source": [
    "# Courbe loss\n",
    "plt.plot(history.history['loss'])\n",
    "plt.plot(history.history['val_loss'])\n",
    "\n",
    "plt.title('model loss')\n",
    "plt.ylabel('loss')\n",
    "plt.xlabel('epoch')\n",
    "plt.legend(['train', 'val_loss'])\n",
    "\n",
    "plt.show()\n",
    "\n",
    "# Courbe accuracy\n",
    "plt.plot(history.history['accuracy'])\n",
    "plt.plot(history.history['val_accuracy'])\n",
    "\n",
    "plt.title('model loss')\n",
    "plt.ylabel('accuracy')\n",
    "plt.xlabel('epoch')\n",
    "plt.legend(['train', 'val_accuracy'])\n",
    "\n",
    "plt.show()"
   ]
  },
  {
   "cell_type": "markdown",
   "id": "1934808e",
   "metadata": {},
   "source": [
    "🔎 Enregistrer et charger le modele"
   ]
  },
  {
   "cell_type": "code",
   "execution_count": 70,
   "id": "933ef26d",
   "metadata": {},
   "outputs": [],
   "source": [
    "model.save (\"test_model.h5\")"
   ]
  },
  {
   "cell_type": "code",
   "execution_count": 72,
   "id": "2bab458f",
   "metadata": {},
   "outputs": [],
   "source": [
    "loaded_model = tf.keras.models.load_model('test_model.h5')"
   ]
  },
  {
   "cell_type": "markdown",
   "id": "bd854405",
   "metadata": {},
   "source": [
    "### 🔢 Test des performances"
   ]
  },
  {
   "cell_type": "markdown",
   "id": "726c873c",
   "metadata": {},
   "source": [
    "🔢 Model predict"
   ]
  },
  {
   "cell_type": "code",
   "execution_count": 49,
   "id": "1a6da1e3",
   "metadata": {},
   "outputs": [
    {
     "name": "stdout",
     "output_type": "stream",
     "text": [
      "[1.1702744e-07 7.0747942e-11 2.0005664e-05 4.6999594e-06 1.3960022e-09\n",
      " 1.4620230e-07 3.3145557e-07 3.8811994e-09 9.9997425e-01 4.8170608e-07]\n"
     ]
    }
   ],
   "source": [
    "predictions = model.predict(X_test)\n",
    "print(predictions[3])"
   ]
  },
  {
   "cell_type": "code",
   "execution_count": 50,
   "id": "3513cd25",
   "metadata": {},
   "outputs": [],
   "source": [
    "def plot_prediction(index):\n",
    "    print('predicted probabilities:')\n",
    "    print(predictions[index])\n",
    "    print('predicted category', np.argmax(predictions[index]))\n",
    "    print('true probabilities:')\n",
    "    print(y_test[index])\n",
    "    print('true category', np.argmax(y_test[index]))\n",
    "    img = X_test[index].reshape(28,28)\n",
    "    plt.imshow(img, cmap='gray')"
   ]
  },
  {
   "cell_type": "markdown",
   "id": "b3fd1c76",
   "metadata": {},
   "source": [
    "🔢 Prédiction de l'image"
   ]
  },
  {
   "cell_type": "code",
   "execution_count": 91,
   "id": "42ec4fe8",
   "metadata": {},
   "outputs": [
    {
     "name": "stdout",
     "output_type": "stream",
     "text": [
      "predicted probabilities:\n",
      "[1.1827463e-03 1.7899213e-12 3.5439927e-05 7.0746643e-07 3.9948610e-04\n",
      " 3.5967176e-07 1.6072099e-05 1.1843733e-04 9.8229721e-06 9.9823689e-01]\n",
      "predicted category 9\n",
      "true probabilities:\n",
      "[0. 0. 0. 0. 0. 0. 0. 0. 0. 1.]\n",
      "true category 9\n"
     ]
    },
    {
     "data": {
      "image/png": "[encoded data removed]",
      "text/plain": [
       "<Figure size 432x288 with 1 Axes>"
      ]
     },
     "metadata": {
      "needs_background": "light"
     },
     "output_type": "display_data"
    }
   ],
   "source": [
    "plot_prediction(300)"
   ]
  },
  {
   "cell_type": "markdown",
   "id": "e127c6d4",
   "metadata": {},
   "source": [
    "🔢 Matrice de confusion"
   ]
  },
  {
   "cell_type": "code",
   "execution_count": 73,
   "id": "a4051446",
   "metadata": {},
   "outputs": [],
   "source": [
    "from sklearn.metrics import confusion_matrix"
   ]
  },
  {
   "cell_type": "code",
   "execution_count": 75,
   "id": "0863593a",
   "metadata": {},
   "outputs": [],
   "source": [
    "# plt.figure(figsize=(12,8))\n",
    "# sns.heatmap(confusion_matrix(y_train, y_pred), normalize=True)"
   ]
  },
  {
   "cell_type": "code",
   "execution_count": 57,
   "id": "24921133",
   "metadata": {},
   "outputs": [],
   "source": [
    "#cm = confusion_matrix(y_test, y_pred)\n",
    "#print(cm)"
   ]
  },
  {
   "cell_type": "markdown",
   "id": "aeedeb6d",
   "metadata": {},
   "source": [
    "### 🔢 Dataset TEST"
   ]
  },
  {
   "cell_type": "markdown",
   "id": "f656a322",
   "metadata": {},
   "source": [
    "🔢 Import dataset"
   ]
  },
  {
   "cell_type": "code",
   "execution_count": 58,
   "id": "a2ff4693",
   "metadata": {},
   "outputs": [
    {
     "data": {
      "text/html": [
       "<div>\n",
       "<style scoped>\n",
       "    .dataframe tbody tr th:only-of-type {\n",
       "        vertical-align: middle;\n",
       "    }\n",
       "\n",
       "    .dataframe tbody tr th {\n",
       "        vertical-align: top;\n",
       "    }\n",
       "\n",
       "    .dataframe thead th {\n",
       "        text-align: right;\n",
       "    }\n",
       "</style>\n",
       "<table border=\"1\" class=\"dataframe\">\n",
       "  <thead>\n",
       "    <tr style=\"text-align: right;\">\n",
       "      <th></th>\n",
       "      <th>pixel0</th>\n",
       "      <th>pixel1</th>\n",
       "      <th>pixel2</th>\n",
       "      <th>pixel3</th>\n",
       "      <th>pixel4</th>\n",
       "      <th>pixel5</th>\n",
       "      <th>pixel6</th>\n",
       "      <th>pixel7</th>\n",
       "      <th>pixel8</th>\n",
       "      <th>pixel9</th>\n",
       "      <th>...</th>\n",
       "      <th>pixel774</th>\n",
       "      <th>pixel775</th>\n",
       "      <th>pixel776</th>\n",
       "      <th>pixel777</th>\n",
       "      <th>pixel778</th>\n",
       "      <th>pixel779</th>\n",
       "      <th>pixel780</th>\n",
       "      <th>pixel781</th>\n",
       "      <th>pixel782</th>\n",
       "      <th>pixel783</th>\n",
       "    </tr>\n",
       "  </thead>\n",
       "  <tbody>\n",
       "    <tr>\n",
       "      <th>0</th>\n",
       "      <td>0</td>\n",
       "      <td>0</td>\n",
       "      <td>0</td>\n",
       "      <td>0</td>\n",
       "      <td>0</td>\n",
       "      <td>0</td>\n",
       "      <td>0</td>\n",
       "      <td>0</td>\n",
       "      <td>0</td>\n",
       "      <td>0</td>\n",
       "      <td>...</td>\n",
       "      <td>0</td>\n",
       "      <td>0</td>\n",
       "      <td>0</td>\n",
       "      <td>0</td>\n",
       "      <td>0</td>\n",
       "      <td>0</td>\n",
       "      <td>0</td>\n",
       "      <td>0</td>\n",
       "      <td>0</td>\n",
       "      <td>0</td>\n",
       "    </tr>\n",
       "    <tr>\n",
       "      <th>1</th>\n",
       "      <td>0</td>\n",
       "      <td>0</td>\n",
       "      <td>0</td>\n",
       "      <td>0</td>\n",
       "      <td>0</td>\n",
       "      <td>0</td>\n",
       "      <td>0</td>\n",
       "      <td>0</td>\n",
       "      <td>0</td>\n",
       "      <td>0</td>\n",
       "      <td>...</td>\n",
       "      <td>0</td>\n",
       "      <td>0</td>\n",
       "      <td>0</td>\n",
       "      <td>0</td>\n",
       "      <td>0</td>\n",
       "      <td>0</td>\n",
       "      <td>0</td>\n",
       "      <td>0</td>\n",
       "      <td>0</td>\n",
       "      <td>0</td>\n",
       "    </tr>\n",
       "    <tr>\n",
       "      <th>2</th>\n",
       "      <td>0</td>\n",
       "      <td>0</td>\n",
       "      <td>0</td>\n",
       "      <td>0</td>\n",
       "      <td>0</td>\n",
       "      <td>0</td>\n",
       "      <td>0</td>\n",
       "      <td>0</td>\n",
       "      <td>0</td>\n",
       "      <td>0</td>\n",
       "      <td>...</td>\n",
       "      <td>0</td>\n",
       "      <td>0</td>\n",
       "      <td>0</td>\n",
       "      <td>0</td>\n",
       "      <td>0</td>\n",
       "      <td>0</td>\n",
       "      <td>0</td>\n",
       "      <td>0</td>\n",
       "      <td>0</td>\n",
       "      <td>0</td>\n",
       "    </tr>\n",
       "    <tr>\n",
       "      <th>3</th>\n",
       "      <td>0</td>\n",
       "      <td>0</td>\n",
       "      <td>0</td>\n",
       "      <td>0</td>\n",
       "      <td>0</td>\n",
       "      <td>0</td>\n",
       "      <td>0</td>\n",
       "      <td>0</td>\n",
       "      <td>0</td>\n",
       "      <td>0</td>\n",
       "      <td>...</td>\n",
       "      <td>0</td>\n",
       "      <td>0</td>\n",
       "      <td>0</td>\n",
       "      <td>0</td>\n",
       "      <td>0</td>\n",
       "      <td>0</td>\n",
       "      <td>0</td>\n",
       "      <td>0</td>\n",
       "      <td>0</td>\n",
       "      <td>0</td>\n",
       "    </tr>\n",
       "    <tr>\n",
       "      <th>4</th>\n",
       "      <td>0</td>\n",
       "      <td>0</td>\n",
       "      <td>0</td>\n",
       "      <td>0</td>\n",
       "      <td>0</td>\n",
       "      <td>0</td>\n",
       "      <td>0</td>\n",
       "      <td>0</td>\n",
       "      <td>0</td>\n",
       "      <td>0</td>\n",
       "      <td>...</td>\n",
       "      <td>0</td>\n",
       "      <td>0</td>\n",
       "      <td>0</td>\n",
       "      <td>0</td>\n",
       "      <td>0</td>\n",
       "      <td>0</td>\n",
       "      <td>0</td>\n",
       "      <td>0</td>\n",
       "      <td>0</td>\n",
       "      <td>0</td>\n",
       "    </tr>\n",
       "    <tr>\n",
       "      <th>...</th>\n",
       "      <td>...</td>\n",
       "      <td>...</td>\n",
       "      <td>...</td>\n",
       "      <td>...</td>\n",
       "      <td>...</td>\n",
       "      <td>...</td>\n",
       "      <td>...</td>\n",
       "      <td>...</td>\n",
       "      <td>...</td>\n",
       "      <td>...</td>\n",
       "      <td>...</td>\n",
       "      <td>...</td>\n",
       "      <td>...</td>\n",
       "      <td>...</td>\n",
       "      <td>...</td>\n",
       "      <td>...</td>\n",
       "      <td>...</td>\n",
       "      <td>...</td>\n",
       "      <td>...</td>\n",
       "      <td>...</td>\n",
       "      <td>...</td>\n",
       "    </tr>\n",
       "    <tr>\n",
       "      <th>27995</th>\n",
       "      <td>0</td>\n",
       "      <td>0</td>\n",
       "      <td>0</td>\n",
       "      <td>0</td>\n",
       "      <td>0</td>\n",
       "      <td>0</td>\n",
       "      <td>0</td>\n",
       "      <td>0</td>\n",
       "      <td>0</td>\n",
       "      <td>0</td>\n",
       "      <td>...</td>\n",
       "      <td>0</td>\n",
       "      <td>0</td>\n",
       "      <td>0</td>\n",
       "      <td>0</td>\n",
       "      <td>0</td>\n",
       "      <td>0</td>\n",
       "      <td>0</td>\n",
       "      <td>0</td>\n",
       "      <td>0</td>\n",
       "      <td>0</td>\n",
       "    </tr>\n",
       "    <tr>\n",
       "      <th>27996</th>\n",
       "      <td>0</td>\n",
       "      <td>0</td>\n",
       "      <td>0</td>\n",
       "      <td>0</td>\n",
       "      <td>0</td>\n",
       "      <td>0</td>\n",
       "      <td>0</td>\n",
       "      <td>0</td>\n",
       "      <td>0</td>\n",
       "      <td>0</td>\n",
       "      <td>...</td>\n",
       "      <td>0</td>\n",
       "      <td>0</td>\n",
       "      <td>0</td>\n",
       "      <td>0</td>\n",
       "      <td>0</td>\n",
       "      <td>0</td>\n",
       "      <td>0</td>\n",
       "      <td>0</td>\n",
       "      <td>0</td>\n",
       "      <td>0</td>\n",
       "    </tr>\n",
       "    <tr>\n",
       "      <th>27997</th>\n",
       "      <td>0</td>\n",
       "      <td>0</td>\n",
       "      <td>0</td>\n",
       "      <td>0</td>\n",
       "      <td>0</td>\n",
       "      <td>0</td>\n",
       "      <td>0</td>\n",
       "      <td>0</td>\n",
       "      <td>0</td>\n",
       "      <td>0</td>\n",
       "      <td>...</td>\n",
       "      <td>0</td>\n",
       "      <td>0</td>\n",
       "      <td>0</td>\n",
       "      <td>0</td>\n",
       "      <td>0</td>\n",
       "      <td>0</td>\n",
       "      <td>0</td>\n",
       "      <td>0</td>\n",
       "      <td>0</td>\n",
       "      <td>0</td>\n",
       "    </tr>\n",
       "    <tr>\n",
       "      <th>27998</th>\n",
       "      <td>0</td>\n",
       "      <td>0</td>\n",
       "      <td>0</td>\n",
       "      <td>0</td>\n",
       "      <td>0</td>\n",
       "      <td>0</td>\n",
       "      <td>0</td>\n",
       "      <td>0</td>\n",
       "      <td>0</td>\n",
       "      <td>0</td>\n",
       "      <td>...</td>\n",
       "      <td>0</td>\n",
       "      <td>0</td>\n",
       "      <td>0</td>\n",
       "      <td>0</td>\n",
       "      <td>0</td>\n",
       "      <td>0</td>\n",
       "      <td>0</td>\n",
       "      <td>0</td>\n",
       "      <td>0</td>\n",
       "      <td>0</td>\n",
       "    </tr>\n",
       "    <tr>\n",
       "      <th>27999</th>\n",
       "      <td>0</td>\n",
       "      <td>0</td>\n",
       "      <td>0</td>\n",
       "      <td>0</td>\n",
       "      <td>0</td>\n",
       "      <td>0</td>\n",
       "      <td>0</td>\n",
       "      <td>0</td>\n",
       "      <td>0</td>\n",
       "      <td>0</td>\n",
       "      <td>...</td>\n",
       "      <td>0</td>\n",
       "      <td>0</td>\n",
       "      <td>0</td>\n",
       "      <td>0</td>\n",
       "      <td>0</td>\n",
       "      <td>0</td>\n",
       "      <td>0</td>\n",
       "      <td>0</td>\n",
       "      <td>0</td>\n",
       "      <td>0</td>\n",
       "    </tr>\n",
       "  </tbody>\n",
       "</table>\n",
       "<p>28000 rows × 784 columns</p>\n",
       "</div>"
      ],
      "text/plain": [
       "       pixel0  pixel1  pixel2  pixel3  pixel4  pixel5  pixel6  pixel7  pixel8  \\\n",
       "0           0       0       0       0       0       0       0       0       0   \n",
       "1           0       0       0       0       0       0       0       0       0   \n",
       "2           0       0       0       0       0       0       0       0       0   \n",
       "3           0       0       0       0       0       0       0       0       0   \n",
       "4           0       0       0       0       0       0       0       0       0   \n",
       "...       ...     ...     ...     ...     ...     ...     ...     ...     ...   \n",
       "27995       0       0       0       0       0       0       0       0       0   \n",
       "27996       0       0       0       0       0       0       0       0       0   \n",
       "27997       0       0       0       0       0       0       0       0       0   \n",
       "27998       0       0       0       0       0       0       0       0       0   \n",
       "27999       0       0       0       0       0       0       0       0       0   \n",
       "\n",
       "       pixel9  ...  pixel774  pixel775  pixel776  pixel777  pixel778  \\\n",
       "0           0  ...         0         0         0         0         0   \n",
       "1           0  ...         0         0         0         0         0   \n",
       "2           0  ...         0         0         0         0         0   \n",
       "3           0  ...         0         0         0         0         0   \n",
       "4           0  ...         0         0         0         0         0   \n",
       "...       ...  ...       ...       ...       ...       ...       ...   \n",
       "27995       0  ...         0         0         0         0         0   \n",
       "27996       0  ...         0         0         0         0         0   \n",
       "27997       0  ...         0         0         0         0         0   \n",
       "27998       0  ...         0         0         0         0         0   \n",
       "27999       0  ...         0         0         0         0         0   \n",
       "\n",
       "       pixel779  pixel780  pixel781  pixel782  pixel783  \n",
       "0             0         0         0         0         0  \n",
       "1             0         0         0         0         0  \n",
       "2             0         0         0         0         0  \n",
       "3             0         0         0         0         0  \n",
       "4             0         0         0         0         0  \n",
       "...         ...       ...       ...       ...       ...  \n",
       "27995         0         0         0         0         0  \n",
       "27996         0         0         0         0         0  \n",
       "27997         0         0         0         0         0  \n",
       "27998         0         0         0         0         0  \n",
       "27999         0         0         0         0         0  \n",
       "\n",
       "[28000 rows x 784 columns]"
      ]
     },
     "execution_count": 58,
     "metadata": {},
     "output_type": "execute_result"
    }
   ],
   "source": [
    "df_test = pd.read_csv('C:/Users/zaome/Documents/Arthuro/Projet_reseau_neuronal/test.csv')\n",
    "df_test"
   ]
  },
  {
   "cell_type": "code",
   "execution_count": 59,
   "id": "b7e01cc0",
   "metadata": {},
   "outputs": [
    {
     "data": {
      "text/plain": [
       "(28000, 784)"
      ]
     },
     "execution_count": 59,
     "metadata": {},
     "output_type": "execute_result"
    }
   ],
   "source": [
    "df_test.shape"
   ]
  },
  {
   "cell_type": "markdown",
   "id": "f314b2cc",
   "metadata": {},
   "source": [
    "🔢 Preprocess"
   ]
  },
  {
   "cell_type": "code",
   "execution_count": 61,
   "id": "e819f135",
   "metadata": {},
   "outputs": [],
   "source": [
    "df_test = df_test/255 "
   ]
  },
  {
   "cell_type": "code",
   "execution_count": 62,
   "id": "55b6d718",
   "metadata": {},
   "outputs": [],
   "source": [
    "df_test = np.array(df_test)"
   ]
  },
  {
   "cell_type": "code",
   "execution_count": 63,
   "id": "6d8b5ec9",
   "metadata": {},
   "outputs": [],
   "source": [
    "df_test = df_test.reshape(df_test.shape[0], 28, 28, 1)"
   ]
  },
  {
   "cell_type": "code",
   "execution_count": 64,
   "id": "0adec2b8",
   "metadata": {},
   "outputs": [
    {
     "data": {
      "text/plain": [
       "(28000, 28, 28, 1)"
      ]
     },
     "execution_count": 64,
     "metadata": {},
     "output_type": "execute_result"
    }
   ],
   "source": [
    "df_test.shape"
   ]
  },
  {
   "cell_type": "markdown",
   "id": "7c924c35",
   "metadata": {},
   "source": [
    "🔢 Prediction modele"
   ]
  },
  {
   "cell_type": "code",
   "execution_count": 65,
   "id": "d348570e",
   "metadata": {},
   "outputs": [],
   "source": [
    "prediction = model.predict(df_test)"
   ]
  },
  {
   "cell_type": "code",
   "execution_count": 66,
   "id": "56b9e393",
   "metadata": {},
   "outputs": [],
   "source": [
    "prediction = np.argmax(prediction, axis=1)"
   ]
  },
  {
   "cell_type": "code",
   "execution_count": 67,
   "id": "0633790f",
   "metadata": {},
   "outputs": [
    {
     "data": {
      "text/plain": [
       "array([2, 0, 9, ..., 3, 9, 2], dtype=int64)"
      ]
     },
     "execution_count": 67,
     "metadata": {},
     "output_type": "execute_result"
    }
   ],
   "source": [
    "prediction"
   ]
  },
  {
   "cell_type": "markdown",
   "id": "cb4f898a",
   "metadata": {},
   "source": [
    "🔢 Prediction images"
   ]
  },
  {
   "cell_type": "code",
   "execution_count": 89,
   "id": "415fb912",
   "metadata": {},
   "outputs": [],
   "source": [
    "def test_prediction(index):\n",
    "    print('Predicted category :', prediction[index])\n",
    "    img = df_test[index].reshape(28,28)\n",
    "    plt.imshow(img, cmap='gray')"
   ]
  },
  {
   "cell_type": "code",
   "execution_count": 88,
   "id": "1885f295",
   "metadata": {},
   "outputs": [
    {
     "name": "stdout",
     "output_type": "stream",
     "text": [
      "Predicted category : 4\n"
     ]
    },
    {
     "data": {
      "image/png": "[encoded data removed]",
      "text/plain": [
       "<Figure size 432x288 with 1 Axes>"
      ]
     },
     "metadata": {
      "needs_background": "light"
     },
     "output_type": "display_data"
    }
   ],
   "source": [
    "index = np.random.choice(df_test.shape[0])\n",
    "test_prediction(index)"
   ]
  },
  {
   "cell_type": "code",
   "execution_count": null,
   "id": "b19780a3",
   "metadata": {},
   "outputs": [],
   "source": []
  },
  {
   "cell_type": "code",
   "execution_count": null,
   "id": "add15ae2",
   "metadata": {},
   "outputs": [],
   "source": []
  }
 ],
 "metadata": {
  "celltoolbar": "Format de la Cellule Texte Brut",
  "kernelspec": {
   "display_name": "Python 3",
   "language": "python",
   "name": "python3"
  },
  "language_info": {
   "codemirror_mode": {
    "name": "ipython",
    "version": 3
   },
   "file_extension": ".py",
   "mimetype": "text/x-python",
   "name": "python",
   "nbconvert_exporter": "python",
   "pygments_lexer": "ipython3",
   "version": "3.8.8"
  }
 },
 "nbformat": 4,
 "nbformat_minor": 5
}
